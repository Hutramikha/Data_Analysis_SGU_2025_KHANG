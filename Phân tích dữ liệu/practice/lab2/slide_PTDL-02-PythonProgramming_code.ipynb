{
  "cells": [
    {
      "cell_type": "markdown",
      "id": "d142fc11",
      "metadata": {
        "id": "d142fc11"
      },
      "source": [
        "# PTDL - PYTHON PROGRAMMING"
      ]
    },
    {
      "cell_type": "markdown",
      "id": "46a2fe86",
      "metadata": {
        "id": "46a2fe86"
      },
      "source": [
        "# ----------------------------------------------------------"
      ]
    },
    {
      "cell_type": "markdown",
      "id": "4d8ae9a1",
      "metadata": {
        "id": "4d8ae9a1"
      },
      "source": [
        "## I/ Python Programming"
      ]
    },
    {
      "cell_type": "markdown",
      "id": "17514c4b",
      "metadata": {
        "id": "17514c4b"
      },
      "source": [
        "### Python Hello World"
      ]
    },
    {
      "cell_type": "code",
      "execution_count": null,
      "id": "d83d321d",
      "metadata": {
        "id": "d83d321d",
        "outputId": "e26e831b-28ae-42e9-ae1f-2ffe0b21ee87"
      },
      "outputs": [
        {
          "name": "stdout",
          "output_type": "stream",
          "text": [
            "Hello World\n"
          ]
        }
      ],
      "source": [
        "print(\"Hello World\")"
      ]
    },
    {
      "cell_type": "markdown",
      "id": "b473ad06",
      "metadata": {
        "id": "b473ad06"
      },
      "source": [
        "### Python Syntax"
      ]
    },
    {
      "cell_type": "code",
      "execution_count": null,
      "id": "3054dd62",
      "metadata": {
        "id": "3054dd62",
        "outputId": "20ecb306-d056-4faf-c169-24547d7c1f21"
      },
      "outputs": [
        {
          "name": "stdout",
          "output_type": "stream",
          "text": [
            "Pass\n"
          ]
        }
      ],
      "source": [
        "# example 1\n",
        "score = 80\n",
        "if score >=60 :\n",
        "    print(\"Pass\")"
      ]
    },
    {
      "cell_type": "code",
      "execution_count": null,
      "id": "0527a842",
      "metadata": {
        "id": "0527a842",
        "outputId": "e2674f75-66e4-49fc-9071-08fd1f44fbb1"
      },
      "outputs": [
        {
          "name": "stdout",
          "output_type": "stream",
          "text": [
            "Fail\n"
          ]
        }
      ],
      "source": [
        "# example 2\n",
        "score = 50\n",
        "if score >=60 :\n",
        "    print(\"Pass\")\n",
        "else:\n",
        "    print(\"Fail\")"
      ]
    },
    {
      "cell_type": "markdown",
      "id": "3c090787",
      "metadata": {
        "id": "3c090787"
      },
      "source": [
        "### Python Variables"
      ]
    },
    {
      "cell_type": "code",
      "execution_count": null,
      "id": "cd79a7c5",
      "metadata": {
        "id": "cd79a7c5",
        "outputId": "5e863299-0c5f-4178-d083-ba00ebfe9210"
      },
      "outputs": [
        {
          "name": "stdout",
          "output_type": "stream",
          "text": [
            "2\n",
            "2.5\n",
            "Hello\n",
            "Hello\n",
            "Hello\n",
            "Hello\n",
            "3\n"
          ]
        }
      ],
      "source": [
        "# Python Variables\n",
        "x = 2\n",
        "print(x)\n",
        "\n",
        "price = 2.5\n",
        "print(price)\n",
        "\n",
        "word = 'Hello'\n",
        "print(word)\n",
        "\n",
        "word = 'Hello'\n",
        "print(word)\n",
        "\n",
        "word = \"Hello\"\n",
        "print(word)\n",
        "\n",
        "word = '''Hello'''\n",
        "print(word)\n",
        "\n",
        "x = 2\n",
        "y = x + 1\n",
        "print(y)"
      ]
    },
    {
      "cell_type": "markdown",
      "id": "fe8b70a8",
      "metadata": {
        "id": "fe8b70a8"
      },
      "source": [
        "### python_version()"
      ]
    },
    {
      "cell_type": "code",
      "execution_count": null,
      "id": "86ab1459",
      "metadata": {
        "id": "86ab1459",
        "outputId": "ba31af88-b421-4907-b913-343e0751cd3b"
      },
      "outputs": [
        {
          "name": "stdout",
          "output_type": "stream",
          "text": [
            "Python Version: 3.13.5\n"
          ]
        }
      ],
      "source": [
        "from platform import python_version\n",
        "print(\"Python Version:\", python_version())"
      ]
    },
    {
      "cell_type": "markdown",
      "id": "c2996861",
      "metadata": {
        "id": "c2996861"
      },
      "source": [
        "### Python Data Types"
      ]
    },
    {
      "cell_type": "code",
      "execution_count": null,
      "id": "377a67ee",
      "metadata": {
        "id": "377a67ee",
        "outputId": "1805a944-9db7-4c3b-faee-352c0ce1ab0e"
      },
      "outputs": [
        {
          "name": "stdout",
          "output_type": "stream",
          "text": [
            "Hello World <class 'str'>\n",
            "2 <class 'int'>\n",
            "2.5 <class 'float'>\n",
            "7j <class 'complex'>\n",
            "----------------------\n",
            "['apple', 'banana', 'cherry'] <class 'list'>\n",
            "('apple', 'banana', 'cherry') <class 'tuple'>\n",
            "{'name': 'Tom', 'age': 20} <class 'dict'>\n",
            "{'apple', 'banana', 'cherry'} <class 'set'>\n",
            "frozenset({'apple', 'banana', 'cherry'}) <class 'frozenset'>\n",
            "----------------------\n",
            "True <class 'bool'>\n",
            "b'Hello' <class 'bytes'>\n",
            "bytearray(b'\\x00\\x00\\x00\\x00\\x00') <class 'bytearray'>\n",
            "<memory at 0x0000027CD0E0E8C0> <class 'memoryview'>\n",
            "None <class 'NoneType'>\n"
          ]
        }
      ],
      "source": [
        "x = \"Hello World\" #str\n",
        "print(x, type(x))\n",
        "\n",
        "x = 2 #int\n",
        "print(x, type(x))\n",
        "\n",
        "x = 2.5 #float\n",
        "print(x, type(x))\n",
        "\n",
        "x = 7j #complex\n",
        "print(x, type(x))\n",
        "\n",
        "print('----------------------')\n",
        "\n",
        "x = [\"apple\", \"banana\", \"cherry\"] #list\n",
        "print(x, type(x))\n",
        "\n",
        "x = (\"apple\", \"banana\", \"cherry\") #tuple\n",
        "print(x, type(x))\n",
        "\n",
        "x = range(6) #range\n",
        "\n",
        "x = {\"name\" : \"Tom\", \"age\" : 20} #dict\n",
        "print(x, type(x))\n",
        "\n",
        "x = {\"apple\", \"banana\", \"cherry\"} #set\n",
        "print(x, type(x))\n",
        "\n",
        "x = frozenset({\"apple\", \"banana\", \"cherry\"}) #frozenset\n",
        "print(x, type(x))\n",
        "\n",
        "print('----------------------')\n",
        "\n",
        "x = True #bool\n",
        "print(x, type(x))\n",
        "\n",
        "x = b\"Hello\" #bytes\n",
        "print(x, type(x))\n",
        "\n",
        "x = bytearray(5) #bytearray\n",
        "print(x, type(x))\n",
        "\n",
        "x = memoryview(bytes(5)) #memoryview\n",
        "print(x, type(x))\n",
        "\n",
        "x = None #NoneType\n",
        "print(x, type(x))"
      ]
    },
    {
      "cell_type": "markdown",
      "id": "12f80b21",
      "metadata": {
        "id": "12f80b21"
      },
      "source": [
        "### Python Casting"
      ]
    },
    {
      "cell_type": "code",
      "execution_count": null,
      "id": "0a9813a9",
      "metadata": {
        "id": "0a9813a9",
        "outputId": "9d0123c9-9453-4b38-df6f-16659c4248dd"
      },
      "outputs": [
        {
          "name": "stdout",
          "output_type": "stream",
          "text": [
            "3 <class 'str'>\n",
            "3 <class 'int'>\n",
            "3.0 <class 'float'>\n"
          ]
        }
      ],
      "source": [
        "x = str(3) # x will be '3'\n",
        "y = int(3) # y will be 3\n",
        "z = float(3) # z will be 3.0\n",
        "print(x, type(x))\n",
        "print(y, type(y))\n",
        "print(z, type(z))"
      ]
    },
    {
      "cell_type": "markdown",
      "id": "518f2888",
      "metadata": {
        "id": "518f2888"
      },
      "source": [
        "### Python Numbers"
      ]
    },
    {
      "cell_type": "code",
      "execution_count": null,
      "id": "3a247cfb",
      "metadata": {
        "id": "3a247cfb",
        "outputId": "6f372155-cfe1-49e3-88ca-ad92b172a493"
      },
      "outputs": [
        {
          "name": "stdout",
          "output_type": "stream",
          "text": [
            "2 <class 'int'>\n",
            "3.4 <class 'float'>\n",
            "7j <class 'complex'>\n"
          ]
        }
      ],
      "source": [
        "x = 2 # int\n",
        "y = 3.4 # float\n",
        "z = 7j #complex\n",
        "print(x, type(x))\n",
        "print(y, type(y))\n",
        "print(z, type(z))"
      ]
    },
    {
      "cell_type": "markdown",
      "id": "a2c895e0",
      "metadata": {
        "id": "a2c895e0"
      },
      "source": [
        "### Python Arithmetic Operators"
      ]
    },
    {
      "cell_type": "code",
      "execution_count": null,
      "id": "2c9c04d1",
      "metadata": {
        "id": "2c9c04d1",
        "outputId": "bd4897b1-8869-4dd0-8e41-26cfaa2d45a4"
      },
      "outputs": [
        {
          "name": "stdout",
          "output_type": "stream",
          "text": [
            "7 + 2 = 9\n",
            "7 - 2 = 5\n",
            "7 * 2 = 14\n",
            "7 / 2 = 3.5\n",
            "7 // 2 = 3\n",
            "7 % 2 = 1\n",
            "7 ** 2 = 49\n"
          ]
        }
      ],
      "source": [
        "# Python Basic Operators\n",
        "print('7 + 2 =', 7 + 2)\n",
        "print('7 - 2 =', 7 - 2)\n",
        "print('7 * 2 =', 7 * 2)\n",
        "print('7 / 2 =', 7 / 2)\n",
        "print('7 // 2 =', 7 // 2)\n",
        "print('7 % 2 =', 7 % 2)\n",
        "print('7 ** 2 =', 7 ** 2)"
      ]
    },
    {
      "cell_type": "markdown",
      "id": "d156edf2",
      "metadata": {
        "id": "d156edf2"
      },
      "source": [
        "### Python Booleans"
      ]
    },
    {
      "cell_type": "code",
      "execution_count": null,
      "id": "337e30c9",
      "metadata": {
        "id": "337e30c9",
        "outputId": "2bdf059d-7a78-45c8-d890-7f8157850dac"
      },
      "outputs": [
        {
          "name": "stdout",
          "output_type": "stream",
          "text": [
            "True\n",
            "False\n",
            "False\n",
            "True\n",
            "False\n",
            "True\n"
          ]
        }
      ],
      "source": [
        "# Python Booleans: True or False\n",
        "print(3 > 2)\n",
        "print(3 == 2)\n",
        "print(3 < 2)\n",
        "print(3 >= 2)\n",
        "print(3 <= 2)\n",
        "print(3 != 2)"
      ]
    },
    {
      "cell_type": "markdown",
      "id": "71110394",
      "metadata": {
        "id": "71110394"
      },
      "source": [
        "### Python BMI Calculator"
      ]
    },
    {
      "cell_type": "code",
      "execution_count": null,
      "id": "7c017fdc",
      "metadata": {
        "id": "7c017fdc",
        "outputId": "9da581f2-ed8f-4c70-8549-fd1c12adc3ca"
      },
      "outputs": [
        {
          "name": "stdout",
          "output_type": "stream",
          "text": [
            "Your BMI is: 20.8\n"
          ]
        }
      ],
      "source": [
        "# BMI Calculator in Python\n",
        "height_cm = 170\n",
        "weight_kg = 60\n",
        "height_m = height_cm/100\n",
        "BMI = (weight_kg/(height_m**2))\n",
        "\n",
        "print(\"Your BMI is: \" + str(round(BMI,1)))"
      ]
    },
    {
      "cell_type": "markdown",
      "id": "07b241a0",
      "metadata": {
        "id": "07b241a0"
      },
      "source": [
        "### Future value of a specified principal amount, rate of interest and a number of years"
      ]
    },
    {
      "cell_type": "code",
      "execution_count": null,
      "id": "d594289c",
      "metadata": {
        "id": "d594289c",
        "outputId": "1203cdae-2896-46b1-f025-ee9d6b5d258a"
      },
      "outputs": [
        {
          "name": "stdout",
          "output_type": "stream",
          "text": [
            "fv =  194.87\n"
          ]
        }
      ],
      "source": [
        "# How much is your $100 worth after 7 years?\n",
        "fv = 100 * 1.1 ** 7\n",
        "print('fv = ', round(fv, 2))"
      ]
    },
    {
      "cell_type": "markdown",
      "id": "97633a53",
      "metadata": {
        "id": "97633a53"
      },
      "source": [
        "### Future Value"
      ]
    },
    {
      "cell_type": "code",
      "execution_count": null,
      "id": "b66e34e4",
      "metadata": {
        "id": "b66e34e4",
        "outputId": "4e2dabe9-9b80-4ce6-9389-84491e80f5bb"
      },
      "outputs": [
        {
          "name": "stdout",
          "output_type": "stream",
          "text": [
            "194.87\n"
          ]
        }
      ],
      "source": [
        "# example 1\n",
        "# Future Value\n",
        "pv = 100\n",
        "r = 0.1\n",
        "n = 7\n",
        "fv = pv * ((1 + (r)) ** n)\n",
        "print(round(fv, 2))"
      ]
    },
    {
      "cell_type": "code",
      "execution_count": null,
      "id": "7ed6c100",
      "metadata": {
        "id": "7ed6c100",
        "outputId": "5c9c8913-c9db-40da-d9df-9083147e6b03"
      },
      "outputs": [
        {
          "name": "stdout",
          "output_type": "stream",
          "text": [
            "194.87\n"
          ]
        }
      ],
      "source": [
        "# example 2\n",
        "# Future Value\n",
        "amount = 100\n",
        "interest = 10 #10% = 0.01 * 10\n",
        "years = 7\n",
        "\n",
        "future_value = amount * ((1 + (0.01 * interest)) ** years)\n",
        "print(round(future_value, 2))"
      ]
    },
    {
      "cell_type": "markdown",
      "id": "4f8fc8f6",
      "metadata": {
        "id": "4f8fc8f6"
      },
      "source": [
        "## II/ Python Data Structures"
      ]
    },
    {
      "cell_type": "markdown",
      "id": "a64bcd3c",
      "metadata": {
        "id": "a64bcd3c"
      },
      "source": [
        "### Python Data Types"
      ]
    },
    {
      "cell_type": "code",
      "execution_count": null,
      "id": "a9be7198",
      "metadata": {
        "id": "a9be7198"
      },
      "outputs": [],
      "source": [
        "x = [\"apple\", \"banana\", \"cherry\"] #list\n",
        "x = (\"apple\", \"banana\", \"cherry\") #tuple\n",
        "x = {\"name\" : \"Tom\", \"age\" : 20} #dict\n",
        "x = {\"apple\", \"banana\", \"cherry\"} #set"
      ]
    },
    {
      "cell_type": "markdown",
      "id": "36e40d4f",
      "metadata": {
        "id": "36e40d4f"
      },
      "source": [
        "### Lists []"
      ]
    },
    {
      "cell_type": "code",
      "execution_count": null,
      "id": "5f4c8542",
      "metadata": {
        "id": "5f4c8542",
        "outputId": "d1f27a62-cbfc-46b7-d86c-a347ff53d4c6"
      },
      "outputs": [
        {
          "name": "stdout",
          "output_type": "stream",
          "text": [
            "4\n",
            "60\n",
            "70\n",
            "90\n"
          ]
        }
      ],
      "source": [
        "x = [60, 70, 80, 90]\n",
        "print(len(x))\n",
        "print(x[0])\n",
        "print(x[1])\n",
        "print(x[-1])"
      ]
    },
    {
      "cell_type": "markdown",
      "id": "c4453d85",
      "metadata": {
        "id": "c4453d85"
      },
      "source": [
        "### Tuples ()"
      ]
    },
    {
      "cell_type": "code",
      "execution_count": null,
      "id": "ad828136",
      "metadata": {
        "id": "ad828136",
        "outputId": "386ec5cd-bc7e-4fa2-d39e-1c4d8a85d36b"
      },
      "outputs": [
        {
          "name": "stdout",
          "output_type": "stream",
          "text": [
            "10\n",
            "20\n",
            "30\n",
            "50\n"
          ]
        }
      ],
      "source": [
        "x = (10, 20, 30, 40, 50)\n",
        "print(x[0])\n",
        "print(x[1])\n",
        "print(x[2])\n",
        "print(x[-1])"
      ]
    },
    {
      "cell_type": "markdown",
      "id": "ae2d25eb",
      "metadata": {
        "id": "ae2d25eb"
      },
      "source": [
        "### Sets {}"
      ]
    },
    {
      "cell_type": "code",
      "execution_count": null,
      "id": "907d0d95",
      "metadata": {
        "id": "907d0d95",
        "outputId": "ab6cfa14-d709-4785-c716-4e75e69f9f5d"
      },
      "outputs": [
        {
          "name": "stdout",
          "output_type": "stream",
          "text": [
            "True\n",
            "False\n",
            "True\n",
            "3\n",
            "3\n",
            "2\n"
          ]
        }
      ],
      "source": [
        "animals = {'cat', 'dog'}\n",
        "print('cat' in animals)\n",
        "print('fish' in animals)\n",
        "animals.add('fish')\n",
        "print('fish' in animals)\n",
        "print(len(animals))\n",
        "animals.add('cat')\n",
        "print(len(animals))\n",
        "animals.remove('cat')\n",
        "print(len(animals))"
      ]
    },
    {
      "cell_type": "markdown",
      "id": "3db090bf",
      "metadata": {
        "id": "3db090bf"
      },
      "source": [
        "### Dictionary {key : value}"
      ]
    },
    {
      "cell_type": "code",
      "execution_count": null,
      "id": "b5791ee6",
      "metadata": {
        "id": "b5791ee6",
        "outputId": "cd71ca23-b0ed-424f-b2ef-a726334e570c"
      },
      "outputs": [
        {
          "name": "stdout",
          "output_type": "stream",
          "text": [
            "English\n",
            "French\n"
          ]
        }
      ],
      "source": [
        "# Python Dictionary\n",
        "# Key → Value\n",
        "# 'EN’ → 'English’\n",
        "# 'FR’ → 'French'\n",
        "\n",
        "k = { 'EN':'English', 'FR':'French' }\n",
        "\n",
        "print(k['EN'])\n",
        "print(k['FR'])"
      ]
    },
    {
      "cell_type": "markdown",
      "id": "befa6f9b",
      "metadata": {
        "id": "befa6f9b"
      },
      "source": [
        "### Python Data Structures"
      ]
    },
    {
      "cell_type": "code",
      "execution_count": null,
      "id": "dfa0792d",
      "metadata": {
        "id": "dfa0792d"
      },
      "outputs": [],
      "source": [
        "fruits = [\"apple\", \"banana\", \"cherry\"] #lists []\n",
        "colors = (\"red\", \"green\", \"blue\") #tuples ()\n",
        "animals = {'cat', 'dog'} #sets {}\n",
        "person = {\"name\" : \"Tom\", \"age\" : 20} #dictionaries {}"
      ]
    },
    {
      "cell_type": "markdown",
      "id": "ebead15a",
      "metadata": {
        "id": "ebead15a"
      },
      "source": [
        "### Python for Finance Applications"
      ]
    },
    {
      "cell_type": "code",
      "execution_count": null,
      "id": "4aee8cfe",
      "metadata": {
        "id": "4aee8cfe",
        "outputId": "8811c24c-1765-437f-e1a8-ea8b32c1b8ee"
      },
      "outputs": [
        {
          "name": "stdout",
          "output_type": "stream",
          "text": [
            "Account name: Cash Account number: 1001\n",
            "Account name: Accounts Receivable Account number: 1002\n",
            "Account name: Inventory Account number: 1003\n"
          ]
        }
      ],
      "source": [
        "# example 1\n",
        "# Python Tuples\n",
        "accounts = ((\"Cash\", 1001), (\"Accounts Receivable\", 1002),\n",
        "(\"Inventory\", 1003))\n",
        "for account in accounts:\n",
        "    print(\"Account name:\", account[0], \"Account number:\", account[1])"
      ]
    },
    {
      "cell_type": "code",
      "execution_count": null,
      "id": "dc725a1f",
      "metadata": {
        "id": "dc725a1f",
        "outputId": "34c9ed59-623b-4b44-df15-abb77106c068"
      },
      "outputs": [
        {
          "name": "stdout",
          "output_type": "stream",
          "text": [
            "Account number 1004 is not in use.\n"
          ]
        }
      ],
      "source": [
        "# example 2\n",
        "# Python Sets\n",
        "account_numbers = {1001, 1002, 1003}\n",
        "new_account_number = 1004\n",
        "if new_account_number not in account_numbers:\n",
        "    print(\"Account number\", new_account_number, \"is not in use.\")"
      ]
    },
    {
      "cell_type": "code",
      "execution_count": null,
      "id": "404791b1",
      "metadata": {
        "id": "404791b1",
        "outputId": "4a7810d6-3405-4606-9aea-e2d0bc2c0393"
      },
      "outputs": [
        {
          "name": "stdout",
          "output_type": "stream",
          "text": [
            "Account number: 1001\n",
            "Account name: Cash\n",
            "Account balance: 500.0\n",
            "Account type: Asset\n",
            "Account number: 1002\n",
            "Account name: Accounts Receivable\n",
            "Account balance: 1000.0\n",
            "Account type: Asset\n",
            "Account number: 2001\n",
            "Account name: Accounts Payable\n",
            "Account balance: 750.0\n",
            "Account type: Liability\n"
          ]
        }
      ],
      "source": [
        "# example 3\n",
        "# Python Dictionaries\n",
        "accounts = {\"1001\": {\"name\": \"Cash\", \"balance\": 500.00, \"type\": \"Asset\"},\n",
        "\"1002\": {\"name\": \"Accounts Receivable\", \"balance\": 1000.00, \"type\": \"Asset\"},\n",
        "\"2001\": {\"name\": \"Accounts Payable\", \"balance\": 750.00, \"type\": \"Liability\"}}\n",
        "for account_number, account_info in accounts.items():\n",
        "    print(\"Account number:\", account_number)\n",
        "    print(\"Account name:\", account_info[\"name\"])\n",
        "    print(\"Account balance:\", account_info[\"balance\"])\n",
        "    print(\"Account type:\", account_info[\"type\"])"
      ]
    },
    {
      "cell_type": "markdown",
      "id": "3ae96be8",
      "metadata": {
        "id": "3ae96be8"
      },
      "source": [
        "## III/ Python Control Logic and Loops"
      ]
    },
    {
      "cell_type": "markdown",
      "id": "541eb409",
      "metadata": {
        "id": "541eb409"
      },
      "source": [
        "### Python if"
      ]
    },
    {
      "cell_type": "code",
      "execution_count": null,
      "id": "fea436b3",
      "metadata": {
        "id": "fea436b3",
        "outputId": "64caf32e-bdeb-45ee-f199-55d8a75c617d"
      },
      "outputs": [
        {
          "name": "stdout",
          "output_type": "stream",
          "text": [
            "Pass\n"
          ]
        }
      ],
      "source": [
        "# Python if\n",
        "score = 80\n",
        "\n",
        "if score >=60 :\n",
        "    print(\"Pass\")"
      ]
    },
    {
      "cell_type": "markdown",
      "id": "2f068112",
      "metadata": {
        "id": "2f068112"
      },
      "source": [
        "### Python if else"
      ]
    },
    {
      "cell_type": "code",
      "execution_count": null,
      "id": "c741dcca",
      "metadata": {
        "id": "c741dcca",
        "outputId": "2c1fded0-1d17-4974-d7af-75778ff87594"
      },
      "outputs": [
        {
          "name": "stdout",
          "output_type": "stream",
          "text": [
            "Pass\n"
          ]
        }
      ],
      "source": [
        "# Python if else\n",
        "score = 80\n",
        "if score >=60 :\n",
        "    print(\"Pass\")\n",
        "else:\n",
        "    print(\"Fail\")"
      ]
    },
    {
      "cell_type": "markdown",
      "id": "92fe2598",
      "metadata": {
        "id": "92fe2598"
      },
      "source": [
        "### Python if elif else"
      ]
    },
    {
      "cell_type": "code",
      "execution_count": null,
      "id": "a23755e3",
      "metadata": {
        "id": "a23755e3",
        "outputId": "6e401e0f-1c08-4fbc-eedb-44e002815fec"
      },
      "outputs": [
        {
          "name": "stdout",
          "output_type": "stream",
          "text": [
            "A\n"
          ]
        }
      ],
      "source": [
        "# example 1\n",
        "# Python if elif else\n",
        "score = 95\n",
        "if score >= 90 :\n",
        "    print(\"A\")\n",
        "elif score >=60 :\n",
        "    print(\"Pass\")\n",
        "else:\n",
        "    print(\"Fail\")"
      ]
    },
    {
      "cell_type": "code",
      "execution_count": null,
      "id": "c19676ad",
      "metadata": {
        "id": "c19676ad",
        "outputId": "83fffc69-1ebe-4dba-f697-72b136934fa1"
      },
      "outputs": [
        {
          "name": "stdout",
          "output_type": "stream",
          "text": [
            "A\n"
          ]
        }
      ],
      "source": [
        "# example 2\n",
        "# Python if elif else\n",
        "score = 90\n",
        "grade = \"\"\n",
        "if score >=90:\n",
        "    grade = \"A\"\n",
        "elif score >= 80:\n",
        "    grade = \"B\"\n",
        "elif score >= 70:\n",
        "    grade = \"C\"\n",
        "elif score >= 60:\n",
        "    grade = \"D\"\n",
        "else:\n",
        "    grade = \"E\"\n",
        "\n",
        "print(grade)"
      ]
    },
    {
      "cell_type": "markdown",
      "id": "1922d480",
      "metadata": {
        "id": "1922d480"
      },
      "source": [
        "### Python for Loops"
      ]
    },
    {
      "cell_type": "code",
      "execution_count": null,
      "id": "b057e035",
      "metadata": {
        "id": "b057e035",
        "outputId": "47efdb37-fc6a-4c66-d1ce-0d9c4b2c7304"
      },
      "outputs": [
        {
          "name": "stdout",
          "output_type": "stream",
          "text": [
            "1\n",
            "2\n",
            "3\n",
            "4\n",
            "5\n"
          ]
        }
      ],
      "source": [
        "# example 1\n",
        "# Python for Loops\n",
        "for i in range(1,6):\n",
        "    print(i)"
      ]
    },
    {
      "cell_type": "code",
      "execution_count": null,
      "id": "2778656f",
      "metadata": {
        "id": "2778656f",
        "outputId": "c65cc264-a1dd-4d1a-f96a-f03002b8b8e8"
      },
      "outputs": [
        {
          "name": "stdout",
          "output_type": "stream",
          "text": [
            "1  *  1  =  1\n",
            "1  *  2  =  2\n",
            "1  *  3  =  3\n",
            "1  *  4  =  4\n",
            "1  *  5  =  5\n",
            "1  *  6  =  6\n",
            "1  *  7  =  7\n",
            "1  *  8  =  8\n",
            "1  *  9  =  9\n",
            "2  *  1  =  2\n",
            "2  *  2  =  4\n",
            "2  *  3  =  6\n",
            "2  *  4  =  8\n",
            "2  *  5  =  10\n",
            "2  *  6  =  12\n",
            "2  *  7  =  14\n",
            "2  *  8  =  16\n",
            "2  *  9  =  18\n",
            "3  *  1  =  3\n",
            "3  *  2  =  6\n",
            "3  *  3  =  9\n",
            "3  *  4  =  12\n",
            "3  *  5  =  15\n",
            "3  *  6  =  18\n",
            "3  *  7  =  21\n",
            "3  *  8  =  24\n",
            "3  *  9  =  27\n",
            "4  *  1  =  4\n",
            "4  *  2  =  8\n",
            "4  *  3  =  12\n",
            "4  *  4  =  16\n",
            "4  *  5  =  20\n",
            "4  *  6  =  24\n",
            "4  *  7  =  28\n",
            "4  *  8  =  32\n",
            "4  *  9  =  36\n",
            "5  *  1  =  5\n",
            "5  *  2  =  10\n",
            "5  *  3  =  15\n",
            "5  *  4  =  20\n",
            "5  *  5  =  25\n",
            "5  *  6  =  30\n",
            "5  *  7  =  35\n",
            "5  *  8  =  40\n",
            "5  *  9  =  45\n",
            "6  *  1  =  6\n",
            "6  *  2  =  12\n",
            "6  *  3  =  18\n",
            "6  *  4  =  24\n",
            "6  *  5  =  30\n",
            "6  *  6  =  36\n",
            "6  *  7  =  42\n",
            "6  *  8  =  48\n",
            "6  *  9  =  54\n",
            "7  *  1  =  7\n",
            "7  *  2  =  14\n",
            "7  *  3  =  21\n",
            "7  *  4  =  28\n",
            "7  *  5  =  35\n",
            "7  *  6  =  42\n",
            "7  *  7  =  49\n",
            "7  *  8  =  56\n",
            "7  *  9  =  63\n",
            "8  *  1  =  8\n",
            "8  *  2  =  16\n",
            "8  *  3  =  24\n",
            "8  *  4  =  32\n",
            "8  *  5  =  40\n",
            "8  *  6  =  48\n",
            "8  *  7  =  56\n",
            "8  *  8  =  64\n",
            "8  *  9  =  72\n",
            "9  *  1  =  9\n",
            "9  *  2  =  18\n",
            "9  *  3  =  27\n",
            "9  *  4  =  36\n",
            "9  *  5  =  45\n",
            "9  *  6  =  54\n",
            "9  *  7  =  63\n",
            "9  *  8  =  72\n",
            "9  *  9  =  81\n"
          ]
        }
      ],
      "source": [
        "# example 2\n",
        "# Python for loops\n",
        "for i in range(1,10):\n",
        "    for j in range(1,10):\n",
        "        print(i, ' * ' , j , ' = ', i*j)"
      ]
    },
    {
      "cell_type": "markdown",
      "id": "d6866712",
      "metadata": {
        "id": "d6866712"
      },
      "source": [
        "### Python while loops"
      ]
    },
    {
      "cell_type": "code",
      "execution_count": null,
      "id": "4435b43c",
      "metadata": {
        "id": "4435b43c",
        "outputId": "3b8ba0ae-44aa-4fa5-c6e4-8ee9c72d29ae"
      },
      "outputs": [
        {
          "name": "stdout",
          "output_type": "stream",
          "text": [
            "10\n",
            "11\n",
            "12\n",
            "13\n",
            "14\n",
            "15\n",
            "16\n",
            "17\n",
            "18\n",
            "19\n"
          ]
        }
      ],
      "source": [
        "# while loops\n",
        "age = 10\n",
        "while age < 20:\n",
        "    print(age)\n",
        "    age = age + 1"
      ]
    },
    {
      "cell_type": "markdown",
      "id": "23b6b189",
      "metadata": {
        "id": "23b6b189"
      },
      "source": [
        "## IV/ Python Functions"
      ]
    },
    {
      "cell_type": "markdown",
      "id": "1467a4b2",
      "metadata": {
        "id": "1467a4b2"
      },
      "source": [
        "### Python Function"
      ]
    },
    {
      "cell_type": "code",
      "execution_count": null,
      "id": "4816c0fa",
      "metadata": {
        "id": "4816c0fa",
        "outputId": "2a9e10d6-93f1-4db9-f371-273d7c9ae242"
      },
      "outputs": [
        {
          "name": "stdout",
          "output_type": "stream",
          "text": [
            "194.87\n"
          ]
        }
      ],
      "source": [
        "# Python Function def\n",
        "# indentation for blocks. four spaces\n",
        "# def getfv() define get future value function\n",
        "def getfv(pv, r, n):\n",
        "    fv = pv * ((1 + (r)) ** n)\n",
        "    return fv\n",
        "\n",
        "fv = getfv(100, 0.1, 7)\n",
        "print(round(fv, 2))"
      ]
    },
    {
      "cell_type": "markdown",
      "id": "57e32846",
      "metadata": {
        "id": "57e32846"
      },
      "source": [
        "## V/ Python Classes/Objects"
      ]
    },
    {
      "cell_type": "code",
      "execution_count": null,
      "id": "f5c2fc95",
      "metadata": {
        "id": "f5c2fc95",
        "outputId": "13765837-49ab-4ad9-92fc-07f1a0493e81"
      },
      "outputs": [
        {
          "name": "stdout",
          "output_type": "stream",
          "text": [
            "5\n"
          ]
        }
      ],
      "source": [
        "# example 1\n",
        "# Python class\n",
        "class MyClass:\n",
        "    x = 5\n",
        "\n",
        "c1 = MyClass()\n",
        "print(c1.x)"
      ]
    },
    {
      "cell_type": "code",
      "execution_count": null,
      "id": "56261f6f",
      "metadata": {
        "id": "56261f6f",
        "outputId": "b342f8c4-d8d4-4af5-ad0a-d99e5eb0c82e"
      },
      "outputs": [
        {
          "name": "stdout",
          "output_type": "stream",
          "text": [
            "Alan\n",
            "20\n"
          ]
        }
      ],
      "source": [
        "# example 2\n",
        "class Person:\n",
        "    def __init__(self, name, age):\n",
        "        self.name = name\n",
        "        self.age = age\n",
        "\n",
        "p1 = Person(\"Alan\", 20)\n",
        "\n",
        "print(p1.name)\n",
        "print(p1.age)"
      ]
    },
    {
      "cell_type": "code",
      "execution_count": 102,
      "id": "5ca8d6fa",
      "metadata": {
        "id": "5ca8d6fa",
        "outputId": "45309035-eb63-4d0f-992b-f3603d7d653e"
      },
      "outputs": [
        {
          "name": "stdout",
          "output_type": "stream",
          "text": [
            "Hello my name is Alan\n"
          ]
        }
      ],
      "source": [
        "# example 3\n",
        "class Person:\n",
        "    def __init__(self, name, age):\n",
        "        self.name = name\n",
        "        self.age = age\n",
        "\n",
        "    def myfunc(self):\n",
        "        print(\"Hello my name is \" + self.name)\n",
        "\n",
        "p1 = Person(\"Alan\", 20)\n",
        "p1.myfunc()"
      ]
    },
    {
      "cell_type": "code",
      "execution_count": null,
      "id": "364ce335",
      "metadata": {
        "id": "364ce335",
        "outputId": "1c346cd2-aec9-4edd-8c3b-37f0db9d3ccb"
      },
      "outputs": [
        {
          "name": "stdout",
          "output_type": "stream",
          "text": [
            "Hello my name is Alan\n",
            "Alan\n",
            "20\n"
          ]
        }
      ],
      "source": [
        "# example 4\n",
        "class Person:\n",
        "    def __init__(self, name, age):\n",
        "        self.name = name\n",
        "        self.age = age\n",
        "\n",
        "    def myfunc(self):\n",
        "        print(\"Hello my name is \" + self.name)\n",
        "\n",
        "p1 = Person(\"Alan\", 20)\n",
        "p1.myfunc()\n",
        "print(p1.name)\n",
        "print(p1.age)"
      ]
    },
    {
      "cell_type": "code",
      "execution_count": null,
      "id": "24ae8c3d",
      "metadata": {
        "id": "24ae8c3d"
      },
      "outputs": [],
      "source": [
        "# example 5 - 1\n",
        "class Vehicle:\n",
        "    name = \"\"\n",
        "    kind = \"car\"\n",
        "    color = \"\"\n",
        "    value = 100.00\n",
        "    def description(self):\n",
        "        desc_str = \"%s is a %s %s worth $%.2f.\" % (self.name, self.color, self.kind, self.value)\n",
        "        return desc_str"
      ]
    },
    {
      "cell_type": "code",
      "execution_count": null,
      "id": "d6eebe1e",
      "metadata": {
        "id": "d6eebe1e",
        "outputId": "c57d74e6-9c02-4edb-b8c6-6d474e96fa7d"
      },
      "outputs": [
        {
          "name": "stdout",
          "output_type": "stream",
          "text": [
            "Fer is a red convertible worth $60000.00.\n",
            "Fer\n",
            "Jump is a blue van worth $10000.00.\n",
            "Jump\n"
          ]
        }
      ],
      "source": [
        "# example 5 - 2\n",
        "car1 = Vehicle()\n",
        "car1.name = \"Fer\"\n",
        "car1.color = \"red\"\n",
        "car1.kind = \"convertible\"\n",
        "car1.value = 60000.00\n",
        "\n",
        "car2 = Vehicle()\n",
        "car2.name = \"Jump\"\n",
        "car2.color = \"blue\"\n",
        "car2.kind = \"van\"\n",
        "car2.value = 10000.00\n",
        "\n",
        "print(car1.description())\n",
        "print(car1.name)\n",
        "print(car2.description())\n",
        "print(car2.name)"
      ]
    },
    {
      "cell_type": "markdown",
      "id": "670f7b8a",
      "metadata": {
        "id": "670f7b8a"
      },
      "source": [
        "## VI/ Python Modules"
      ]
    },
    {
      "cell_type": "code",
      "execution_count": null,
      "id": "0a76e91c",
      "metadata": {
        "id": "0a76e91c",
        "outputId": "6a899020-907e-480a-eb1e-d92846c61f85"
      },
      "outputs": [
        {
          "name": "stdout",
          "output_type": "stream",
          "text": [
            "Hello, Alan\n"
          ]
        }
      ],
      "source": [
        "# mymodule.py - import mymodule\n",
        "import module.mymodule\n",
        "module.mymodule.greeting(\"Alan\")"
      ]
    },
    {
      "cell_type": "markdown",
      "id": "b3715e2f",
      "metadata": {
        "id": "b3715e2f"
      },
      "source": [
        "## VII/ Files and Exception Handling"
      ]
    },
    {
      "cell_type": "markdown",
      "id": "05ed5095",
      "metadata": {
        "id": "05ed5095"
      },
      "source": [
        "### Python Files (File Handling)"
      ]
    },
    {
      "cell_type": "code",
      "execution_count": null,
      "id": "5ee39125",
      "metadata": {
        "id": "5ee39125",
        "outputId": "49e5f853-d69b-4cea-df29-ed455a0166c6"
      },
      "outputs": [
        {
          "name": "stdout",
          "output_type": "stream",
          "text": [
            "Hello World\n"
          ]
        }
      ],
      "source": [
        "# example 1\n",
        "f = open(\"file/myfile.txt\", \"w\")\n",
        "\n",
        "f.write(\"Hello World\")\n",
        "f.close()\n",
        "\n",
        "f = open(\"file/myfile.txt\", \"r\")\n",
        "\n",
        "text = f.read()\n",
        "print(text)\n",
        "f.close()"
      ]
    },
    {
      "cell_type": "code",
      "execution_count": null,
      "id": "c110de42",
      "metadata": {
        "id": "c110de42",
        "outputId": "c1a7977c-238a-46ed-e38c-c55551dd39ca"
      },
      "outputs": [
        {
          "name": "stdout",
          "output_type": "stream",
          "text": [
            "Hello World\n"
          ]
        }
      ],
      "source": [
        "# example 2\n",
        "# Python File Input / Output\n",
        "with open('file/myfile.txt', 'w') as file:\n",
        "    file.write('Hello World')\n",
        "\n",
        "with open('file/myfile.txt', 'r') as file:\n",
        "    text = file.read()\n",
        "\n",
        "print(text)"
      ]
    },
    {
      "cell_type": "code",
      "execution_count": null,
      "id": "3f0b982c",
      "metadata": {
        "id": "3f0b982c",
        "outputId": "e693f24d-598a-4145-96a0-2e33b478a0c0"
      },
      "outputs": [
        {
          "name": "stdout",
          "output_type": "stream",
          "text": [
            "Hello World\n",
            "Python File IO\n"
          ]
        }
      ],
      "source": [
        "# example 3\n",
        "# Python File Input / Output\n",
        "with open('file/myfile.txt', 'w') as file:\n",
        "    file.write('Hello World\\nPython File IO')\n",
        "\n",
        "with open('file/myfile.txt', 'r') as file:\n",
        "    text = file.read()\n",
        "\n",
        "print(text)"
      ]
    },
    {
      "cell_type": "code",
      "execution_count": null,
      "id": "0854d237",
      "metadata": {
        "id": "0854d237",
        "outputId": "0ae431b9-4cd4-41a2-fd80-0ed196fdeb18"
      },
      "outputs": [
        {
          "name": "stdout",
          "output_type": "stream",
          "text": [
            "Hello World\n",
            "Python File IO\n",
            "New line\n"
          ]
        }
      ],
      "source": [
        "# example 4\n",
        "# Python File Input / Output\n",
        "with open('file/myfile.txt', 'a+') as file:\n",
        "    file.write('\\n' + 'New line')\n",
        "\n",
        "with open('file/myfile.txt', 'r') as file:\n",
        "    text = file.read()\n",
        "\n",
        "print(text)"
      ]
    },
    {
      "cell_type": "code",
      "execution_count": null,
      "id": "7883027c",
      "metadata": {
        "id": "7883027c",
        "outputId": "84db1a0f-505d-40b7-f288-dcca6d6552a8"
      },
      "outputs": [
        {
          "name": "stdout",
          "output_type": "stream",
          "text": [
            " Volume in drive D is Khang\n",
            " Volume Serial Number is 048C-32C8\n",
            "\n",
            " Directory of d:\\Github\\Data_Analysis_SGU_2025\\Ph�n t�ch d? li?u\\practice\\lab2\n",
            "\n",
            "17/09/2025  06:47 PM    <DIR>          .\n",
            "16/09/2025  09:50 AM    <DIR>          ..\n",
            "17/09/2025  01:54 PM             7,053 4a.png\n",
            "17/09/2025  01:54 PM            21,535 4b.png\n",
            "16/09/2025  09:50 AM    <DIR>          ex\n",
            "17/09/2025  06:45 PM    <DIR>          file\n",
            "17/09/2025  02:21 PM    <DIR>          html\n",
            "16/09/2025  09:50 AM            28,224 lab2_03_ex_01.ipynb\n",
            "17/09/2025  02:31 PM           125,576 lab2_04_ex_02.ipynb\n",
            "17/09/2025  06:39 PM    <DIR>          module\n",
            "17/09/2025  02:20 PM            27,423 pi.png\n",
            "17/09/2025  06:57 PM            30,307 slide_PTDL-02-PythonProgramming_code.ipynb\n",
            "17/09/2025  05:41 PM               759 slide_PTDL-03-HienThiVaPhanTichDuLieuVoiPython_code.ipynb\n",
            "               7 File(s)        240,877 bytes\n",
            "               6 Dir(s)  92,960,337,920 bytes free\n"
          ]
        }
      ],
      "source": [
        "# !ls list files - Chỉ phù hợp với Unix/Linux\n",
        "# dùng lệnh !dir cho Windows\n",
        "\n",
        "!dir"
      ]
    },
    {
      "cell_type": "markdown",
      "id": "063fdc1d",
      "metadata": {
        "id": "063fdc1d"
      },
      "source": [
        "### Python OS, IO, files, and Google Drive"
      ]
    },
    {
      "cell_type": "code",
      "execution_count": null,
      "id": "832f7191",
      "metadata": {
        "id": "832f7191",
        "outputId": "6a8c847a-3ef6-471f-a268-9dcfb3a36eab"
      },
      "outputs": [
        {
          "name": "stdout",
          "output_type": "stream",
          "text": [
            "d:\\Github\\Data_Analysis_SGU_2025\\Phân tích dữ liệu\\practice\\lab2\n"
          ]
        }
      ],
      "source": [
        "import os\n",
        "\n",
        "cwd = os.getcwd()\n",
        "print(cwd)"
      ]
    },
    {
      "cell_type": "markdown",
      "id": "b92f7902",
      "metadata": {
        "id": "b92f7902"
      },
      "source": [
        "### os.listdir()"
      ]
    },
    {
      "cell_type": "code",
      "execution_count": null,
      "id": "9780bc6e",
      "metadata": {
        "id": "9780bc6e",
        "outputId": "6044c583-3919-47bb-8b3c-b506691b4d4d"
      },
      "outputs": [
        {
          "data": {
            "text/plain": [
              "['4a.png',\n",
              " '4b.png',\n",
              " 'ex',\n",
              " 'file',\n",
              " 'html',\n",
              " 'lab2_03_ex_01.ipynb',\n",
              " 'lab2_04_ex_02.ipynb',\n",
              " 'module',\n",
              " 'pi.png',\n",
              " 'slide_PTDL-02-PythonProgramming_code.ipynb',\n",
              " 'slide_PTDL-03-HienThiVaPhanTichDuLieuVoiPython_code.ipynb']"
            ]
          },
          "execution_count": 88,
          "metadata": {},
          "output_type": "execute_result"
        }
      ],
      "source": [
        "os.listdir(cwd)"
      ]
    },
    {
      "cell_type": "markdown",
      "id": "67bf43d9",
      "metadata": {
        "id": "67bf43d9"
      },
      "source": [
        "### os.path.join()"
      ]
    },
    {
      "cell_type": "code",
      "execution_count": null,
      "id": "643e07d3",
      "metadata": {
        "id": "643e07d3",
        "outputId": "6a485d15-f4d1-4d62-a2ab-8a779a524ea6"
      },
      "outputs": [
        {
          "name": "stdout",
          "output_type": "stream",
          "text": [
            "d:\\Github\\Data_Analysis_SGU_2025\\Phân tích dữ liệu\\practice\\lab2\\file\n"
          ]
        },
        {
          "data": {
            "text/plain": [
              "['myfile.txt']"
            ]
          },
          "execution_count": 97,
          "metadata": {},
          "output_type": "execute_result"
        }
      ],
      "source": [
        "path = os.path.join(cwd,'file')\n",
        "\n",
        "print(path)\n",
        "os.listdir(path)"
      ]
    },
    {
      "cell_type": "markdown",
      "id": "702bb5aa",
      "metadata": {
        "id": "702bb5aa"
      },
      "source": [
        "### from google.colab import files"
      ]
    },
    {
      "cell_type": "code",
      "execution_count": 1,
      "id": "5c0a70d9",
      "metadata": {
        "colab": {
          "base_uri": "https://localhost:8080/",
          "height": 34
        },
        "id": "5c0a70d9",
        "outputId": "002aaf1a-6bde-4f93-cf39-6d4997c02ce0"
      },
      "outputs": [
        {
          "data": {
            "application/javascript": "\n    async function download(id, filename, size) {\n      if (!google.colab.kernel.accessAllowed) {\n        return;\n      }\n      const div = document.createElement('div');\n      const label = document.createElement('label');\n      label.textContent = `Downloading \"${filename}\": `;\n      div.appendChild(label);\n      const progress = document.createElement('progress');\n      progress.max = size;\n      div.appendChild(progress);\n      document.body.appendChild(div);\n\n      const buffers = [];\n      let downloaded = 0;\n\n      const channel = await google.colab.kernel.comms.open(id);\n      // Send a message to notify the kernel that we're ready.\n      channel.send({})\n\n      for await (const message of channel.messages) {\n        // Send a message to notify the kernel that we're ready.\n        channel.send({})\n        if (message.buffers) {\n          for (const buffer of message.buffers) {\n            buffers.push(buffer);\n            downloaded += buffer.byteLength;\n            progress.value = downloaded;\n          }\n        }\n      }\n      const blob = new Blob(buffers, {type: 'application/binary'});\n      const a = document.createElement('a');\n      a.href = window.URL.createObjectURL(blob);\n      a.download = filename;\n      div.appendChild(a);\n      a.click();\n      div.remove();\n    }\n  ",
            "text/plain": [
              "<IPython.core.display.Javascript object>"
            ]
          },
          "metadata": {},
          "output_type": "display_data"
        },
        {
          "data": {
            "application/javascript": "download(\"download_cc19c250-5ea7-433a-8dd7-2bb55f4c8a8c\", \"io_file_myday.txt\", 47)",
            "text/plain": [
              "<IPython.core.display.Javascript object>"
            ]
          },
          "metadata": {},
          "output_type": "display_data"
        },
        {
          "name": "stdout",
          "output_type": "stream",
          "text": [
            "downloaded\n"
          ]
        }
      ],
      "source": [
        "from google.colab import files\n",
        "\n",
        "with open('io_file_myday.txt', 'w') as f:\n",
        "    f.write('Google Colab File Write Text some content Myday')\n",
        "\n",
        "import time\n",
        "time.sleep(1) # time sleep 1 second\n",
        "\n",
        "files.download('io_file_myday.txt')\n",
        "print('downloaded')"
      ]
    },
    {
      "cell_type": "markdown",
      "id": "wSTIaoSSlQJE",
      "metadata": {
        "id": "wSTIaoSSlQJE"
      },
      "source": [
        "### Python Files"
      ]
    },
    {
      "cell_type": "code",
      "execution_count": 3,
      "id": "ZbFsl-stldQ8",
      "metadata": {
        "colab": {
          "base_uri": "https://localhost:8080/",
          "height": 90
        },
        "id": "ZbFsl-stldQ8",
        "outputId": "4578366a-5706-45d6-fc13-ce72aa205641"
      },
      "outputs": [
        {
          "data": {
            "text/html": [
              "\n",
              "     <input type=\"file\" id=\"files-558aa80c-108f-4362-ac07-f46108b4d35d\" name=\"files[]\" multiple disabled\n",
              "        style=\"border:none\" />\n",
              "     <output id=\"result-558aa80c-108f-4362-ac07-f46108b4d35d\">\n",
              "      Upload widget is only available when the cell has been executed in the\n",
              "      current browser session. Please rerun this cell to enable.\n",
              "      </output>\n",
              "      <script>// Copyright 2017 Google LLC\n",
              "//\n",
              "// Licensed under the Apache License, Version 2.0 (the \"License\");\n",
              "// you may not use this file except in compliance with the License.\n",
              "// You may obtain a copy of the License at\n",
              "//\n",
              "//      http://www.apache.org/licenses/LICENSE-2.0\n",
              "//\n",
              "// Unless required by applicable law or agreed to in writing, software\n",
              "// distributed under the License is distributed on an \"AS IS\" BASIS,\n",
              "// WITHOUT WARRANTIES OR CONDITIONS OF ANY KIND, either express or implied.\n",
              "// See the License for the specific language governing permissions and\n",
              "// limitations under the License.\n",
              "\n",
              "/**\n",
              " * @fileoverview Helpers for google.colab Python module.\n",
              " */\n",
              "(function(scope) {\n",
              "function span(text, styleAttributes = {}) {\n",
              "  const element = document.createElement('span');\n",
              "  element.textContent = text;\n",
              "  for (const key of Object.keys(styleAttributes)) {\n",
              "    element.style[key] = styleAttributes[key];\n",
              "  }\n",
              "  return element;\n",
              "}\n",
              "\n",
              "// Max number of bytes which will be uploaded at a time.\n",
              "const MAX_PAYLOAD_SIZE = 100 * 1024;\n",
              "\n",
              "function _uploadFiles(inputId, outputId) {\n",
              "  const steps = uploadFilesStep(inputId, outputId);\n",
              "  const outputElement = document.getElementById(outputId);\n",
              "  // Cache steps on the outputElement to make it available for the next call\n",
              "  // to uploadFilesContinue from Python.\n",
              "  outputElement.steps = steps;\n",
              "\n",
              "  return _uploadFilesContinue(outputId);\n",
              "}\n",
              "\n",
              "// This is roughly an async generator (not supported in the browser yet),\n",
              "// where there are multiple asynchronous steps and the Python side is going\n",
              "// to poll for completion of each step.\n",
              "// This uses a Promise to block the python side on completion of each step,\n",
              "// then passes the result of the previous step as the input to the next step.\n",
              "function _uploadFilesContinue(outputId) {\n",
              "  const outputElement = document.getElementById(outputId);\n",
              "  const steps = outputElement.steps;\n",
              "\n",
              "  const next = steps.next(outputElement.lastPromiseValue);\n",
              "  return Promise.resolve(next.value.promise).then((value) => {\n",
              "    // Cache the last promise value to make it available to the next\n",
              "    // step of the generator.\n",
              "    outputElement.lastPromiseValue = value;\n",
              "    return next.value.response;\n",
              "  });\n",
              "}\n",
              "\n",
              "/**\n",
              " * Generator function which is called between each async step of the upload\n",
              " * process.\n",
              " * @param {string} inputId Element ID of the input file picker element.\n",
              " * @param {string} outputId Element ID of the output display.\n",
              " * @return {!Iterable<!Object>} Iterable of next steps.\n",
              " */\n",
              "function* uploadFilesStep(inputId, outputId) {\n",
              "  const inputElement = document.getElementById(inputId);\n",
              "  inputElement.disabled = false;\n",
              "\n",
              "  const outputElement = document.getElementById(outputId);\n",
              "  outputElement.innerHTML = '';\n",
              "\n",
              "  const pickedPromise = new Promise((resolve) => {\n",
              "    inputElement.addEventListener('change', (e) => {\n",
              "      resolve(e.target.files);\n",
              "    });\n",
              "  });\n",
              "\n",
              "  const cancel = document.createElement('button');\n",
              "  inputElement.parentElement.appendChild(cancel);\n",
              "  cancel.textContent = 'Cancel upload';\n",
              "  const cancelPromise = new Promise((resolve) => {\n",
              "    cancel.onclick = () => {\n",
              "      resolve(null);\n",
              "    };\n",
              "  });\n",
              "\n",
              "  // Wait for the user to pick the files.\n",
              "  const files = yield {\n",
              "    promise: Promise.race([pickedPromise, cancelPromise]),\n",
              "    response: {\n",
              "      action: 'starting',\n",
              "    }\n",
              "  };\n",
              "\n",
              "  cancel.remove();\n",
              "\n",
              "  // Disable the input element since further picks are not allowed.\n",
              "  inputElement.disabled = true;\n",
              "\n",
              "  if (!files) {\n",
              "    return {\n",
              "      response: {\n",
              "        action: 'complete',\n",
              "      }\n",
              "    };\n",
              "  }\n",
              "\n",
              "  for (const file of files) {\n",
              "    const li = document.createElement('li');\n",
              "    li.append(span(file.name, {fontWeight: 'bold'}));\n",
              "    li.append(span(\n",
              "        `(${file.type || 'n/a'}) - ${file.size} bytes, ` +\n",
              "        `last modified: ${\n",
              "            file.lastModifiedDate ? file.lastModifiedDate.toLocaleDateString() :\n",
              "                                    'n/a'} - `));\n",
              "    const percent = span('0% done');\n",
              "    li.appendChild(percent);\n",
              "\n",
              "    outputElement.appendChild(li);\n",
              "\n",
              "    const fileDataPromise = new Promise((resolve) => {\n",
              "      const reader = new FileReader();\n",
              "      reader.onload = (e) => {\n",
              "        resolve(e.target.result);\n",
              "      };\n",
              "      reader.readAsArrayBuffer(file);\n",
              "    });\n",
              "    // Wait for the data to be ready.\n",
              "    let fileData = yield {\n",
              "      promise: fileDataPromise,\n",
              "      response: {\n",
              "        action: 'continue',\n",
              "      }\n",
              "    };\n",
              "\n",
              "    // Use a chunked sending to avoid message size limits. See b/62115660.\n",
              "    let position = 0;\n",
              "    do {\n",
              "      const length = Math.min(fileData.byteLength - position, MAX_PAYLOAD_SIZE);\n",
              "      const chunk = new Uint8Array(fileData, position, length);\n",
              "      position += length;\n",
              "\n",
              "      const base64 = btoa(String.fromCharCode.apply(null, chunk));\n",
              "      yield {\n",
              "        response: {\n",
              "          action: 'append',\n",
              "          file: file.name,\n",
              "          data: base64,\n",
              "        },\n",
              "      };\n",
              "\n",
              "      let percentDone = fileData.byteLength === 0 ?\n",
              "          100 :\n",
              "          Math.round((position / fileData.byteLength) * 100);\n",
              "      percent.textContent = `${percentDone}% done`;\n",
              "\n",
              "    } while (position < fileData.byteLength);\n",
              "  }\n",
              "\n",
              "  // All done.\n",
              "  yield {\n",
              "    response: {\n",
              "      action: 'complete',\n",
              "    }\n",
              "  };\n",
              "}\n",
              "\n",
              "scope.google = scope.google || {};\n",
              "scope.google.colab = scope.google.colab || {};\n",
              "scope.google.colab._files = {\n",
              "  _uploadFiles,\n",
              "  _uploadFilesContinue,\n",
              "};\n",
              "})(self);\n",
              "</script> "
            ],
            "text/plain": [
              "<IPython.core.display.HTML object>"
            ]
          },
          "metadata": {},
          "output_type": "display_data"
        },
        {
          "name": "stdout",
          "output_type": "stream",
          "text": [
            "Saving io_file_myday.txt to io_file_myday (1).txt\n",
            "User uploaded file \"io_file_myday (1).txt\" with length 47 bytes\n"
          ]
        }
      ],
      "source": [
        "from google.colab import files\n",
        "uploaded = files.upload()\n",
        "\n",
        "for fn in uploaded.keys():\n",
        "  print('User uploaded file \"{name}\" with length {length} bytes'.format(name=fn, length=len(uploaded[fn])))"
      ]
    },
    {
      "cell_type": "markdown",
      "id": "1WjCpyRMmMoe",
      "metadata": {
        "id": "1WjCpyRMmMoe"
      },
      "source": [
        "### os.remove()"
      ]
    },
    {
      "cell_type": "code",
      "execution_count": 6,
      "id": "K-AZ_pfFmN3W",
      "metadata": {
        "colab": {
          "base_uri": "https://localhost:8080/"
        },
        "id": "K-AZ_pfFmN3W",
        "outputId": "e3806972-45b2-4cea-99a2-a85c4b6ada17"
      },
      "outputs": [
        {
          "name": "stdout",
          "output_type": "stream",
          "text": [
            "io_file_myday.txt removed\n"
          ]
        }
      ],
      "source": [
        "import os\n",
        "if os.path.exists(\"io_file_myday.txt\"):\n",
        "  os.remove(\"io_file_myday.txt\")\n",
        "  print(\"io_file_myday.txt removed\")\n",
        "else:\n",
        "  print(\"The file does not exist\")"
      ]
    },
    {
      "cell_type": "markdown",
      "id": "0pjGJq5lmyjy",
      "metadata": {
        "id": "0pjGJq5lmyjy"
      },
      "source": [
        "### os.mkdir(\"myfolder1\") - os.rmdir(\"myfolder1\")"
      ]
    },
    {
      "cell_type": "code",
      "execution_count": 7,
      "id": "lxb8PQNTm1Z0",
      "metadata": {
        "colab": {
          "base_uri": "https://localhost:8080/"
        },
        "id": "lxb8PQNTm1Z0",
        "outputId": "8a096d23-1282-4ee9-f58e-afd877b81e13"
      },
      "outputs": [
        {
          "data": {
            "text/plain": [
              "['.config', 'io_file_myday (1).txt', 'test.txt', 'sample_data']"
            ]
          },
          "execution_count": 7,
          "metadata": {},
          "output_type": "execute_result"
        }
      ],
      "source": [
        "import os\n",
        "os.listdir()\n",
        "os.mkdir(\"myfolder1\")\n",
        "os.listdir()\n",
        "os.rmdir(\"myfolder1\")\n",
        "os.listdir()"
      ]
    },
    {
      "cell_type": "markdown",
      "id": "960b6fd4",
      "metadata": {},
      "source": [
        "## VIII/ Python Try Except (Exception Handling)"
      ]
    },
    {
      "cell_type": "markdown",
      "id": "c7f4e698",
      "metadata": {},
      "source": [
        "### try: except:"
      ]
    },
    {
      "cell_type": "code",
      "execution_count": 103,
      "id": "6314c659",
      "metadata": {},
      "outputs": [
        {
          "name": "stdout",
          "output_type": "stream",
          "text": [
            "{'apple', 'banana', 'cherry'}\n"
          ]
        }
      ],
      "source": [
        "#Python try except\n",
        "try:\n",
        "    print(x)\n",
        "except:\n",
        "    print(\"Exception Error\")"
      ]
    },
    {
      "cell_type": "markdown",
      "id": "e25418b9",
      "metadata": {},
      "source": [
        "### try: except: finally:"
      ]
    },
    {
      "cell_type": "code",
      "execution_count": 104,
      "id": "84cf84a0",
      "metadata": {},
      "outputs": [
        {
          "name": "stdout",
          "output_type": "stream",
          "text": [
            "Hello\n",
            "Finally process\n"
          ]
        }
      ],
      "source": [
        "#Python try except finally\n",
        "try:\n",
        "    print(\"Hello\")\n",
        "except:\n",
        "    print(\"Exception Error\")\n",
        "finally:\n",
        "    print(\"Finally process\")"
      ]
    },
    {
      "cell_type": "markdown",
      "id": "3a1c8caa",
      "metadata": {},
      "source": [
        "### try: except: else:"
      ]
    },
    {
      "cell_type": "code",
      "execution_count": 105,
      "id": "414ae443",
      "metadata": {},
      "outputs": [
        {
          "name": "stdout",
          "output_type": "stream",
          "text": [
            "Hello\n",
            "No exception\n"
          ]
        }
      ],
      "source": [
        "#Python try except else\n",
        "try:\n",
        "    print(\"Hello\")\n",
        "except:\n",
        "    print(\"Exception Error\")\n",
        "else:\n",
        "    print(\"No exception\")"
      ]
    },
    {
      "cell_type": "markdown",
      "id": "efb8f310",
      "metadata": {},
      "source": [
        "### try: except: else: finally:"
      ]
    },
    {
      "cell_type": "code",
      "execution_count": null,
      "id": "a64c7af4",
      "metadata": {},
      "outputs": [
        {
          "name": "stdout",
          "output_type": "stream",
          "text": [
            "Hello\n",
            "No exception\n",
            "Finally process\n"
          ]
        }
      ],
      "source": [
        "# example 1\n",
        "try:\n",
        "    print(\"Hello\")\n",
        "except:\n",
        "    print(\"Exception Error\")\n",
        "else:\n",
        "    print(\"No exception\")\n",
        "finally:\n",
        "    print(\"Finally process\")"
      ]
    },
    {
      "cell_type": "code",
      "execution_count": 108,
      "id": "936616e2",
      "metadata": {},
      "outputs": [
        {
          "name": "stdout",
          "output_type": "stream",
          "text": [
            "The total value of the shares is: 18.0\n",
            "Thank you.\n"
          ]
        }
      ],
      "source": [
        "# example 2\n",
        "try:\n",
        "    price = float(input(\"Enter the price of the stock (e.g. 10):\"))\n",
        "    shares = int(input(\"Enter the number of shares (e.g. 2):\"))\n",
        "    total = price * shares\n",
        "except Exception as e:\n",
        "    print(\"Exception error:\", str(e))\n",
        "else:\n",
        "    print(\"The total value of the shares is:\", total)\n",
        "finally:\n",
        "    print(\"Thank you.\")"
      ]
    },
    {
      "cell_type": "code",
      "execution_count": 109,
      "id": "5e0d33c7",
      "metadata": {},
      "outputs": [
        {
          "name": "stdout",
          "output_type": "stream",
          "text": [
            "Exception file Error\n"
          ]
        }
      ],
      "source": [
        "# example 3\n",
        "try:\n",
        "    file = open(\"file/myfile.txt\")\n",
        "    file.write(\"Python write file\")\n",
        "    print(\"file saved\")\n",
        "except:\n",
        "    print(\"Exception file Error\")"
      ]
    },
    {
      "cell_type": "code",
      "execution_count": 110,
      "id": "52a3961c",
      "metadata": {},
      "outputs": [
        {
          "name": "stdout",
          "output_type": "stream",
          "text": [
            "Exception file Error\n",
            "Finally process\n"
          ]
        }
      ],
      "source": [
        "# example 4\n",
        "try:\n",
        "    file = open(\"file/myfile.txt\")\n",
        "    file.write(\"Python write file\")\n",
        "    print(\"file saved\")\n",
        "except:\n",
        "    print(\"Exception file Error\")\n",
        "finally:\n",
        "    file.close()\n",
        "    print(\"Finally process\")"
      ]
    },
    {
      "cell_type": "code",
      "execution_count": 112,
      "id": "1b327b70",
      "metadata": {},
      "outputs": [
        {
          "name": "stdout",
          "output_type": "stream",
          "text": [
            "file saved\n",
            "Finally process\n"
          ]
        }
      ],
      "source": [
        "# example 5\n",
        "try:\n",
        "    file = open(\"file/myfile.txt\", 'w')\n",
        "    file.write(\"Python write file\")\n",
        "    print(\"file saved\")\n",
        "except:\n",
        "    print(\"Exception file Error\")\n",
        "finally:\n",
        "    file.close()\n",
        "    print(\"Finally process\")"
      ]
    },
    {
      "cell_type": "markdown",
      "id": "8a608204",
      "metadata": {},
      "source": [
        "# Kết thúc"
      ]
    }
  ],
  "metadata": {
    "colab": {
      "provenance": []
    },
    "kernelspec": {
      "display_name": "base",
      "language": "python",
      "name": "python3"
    },
    "language_info": {
      "codemirror_mode": {
        "name": "ipython",
        "version": 3
      },
      "file_extension": ".py",
      "mimetype": "text/x-python",
      "name": "python",
      "nbconvert_exporter": "python",
      "pygments_lexer": "ipython3",
      "version": "3.13.5"
    }
  },
  "nbformat": 4,
  "nbformat_minor": 5
}
